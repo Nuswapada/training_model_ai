{
  "nbformat": 4,
  "nbformat_minor": 0,
  "metadata": {
    "colab": {
      "provenance": [],
      "gpuType": "T4"
    },
    "kernelspec": {
      "name": "python3",
      "display_name": "Python 3"
    },
    "language_info": {
      "name": "python"
    },
    "accelerator": "GPU"
  },
  "cells": [
    {
      "cell_type": "markdown",
      "source": [
        "#1. Mount Google Drive"
      ],
      "metadata": {
        "id": "JmKOJEyLngUO"
      }
    },
    {
      "cell_type": "code",
      "execution_count": null,
      "metadata": {
        "colab": {
          "base_uri": "https://localhost:8080/"
        },
        "id": "90DpNih1nBf_",
        "outputId": "fbb9c872-ded3-402a-e270-f291e6d8a259"
      },
      "outputs": [
        {
          "output_type": "stream",
          "name": "stdout",
          "text": [
            "Mounted at /content/drive\n"
          ]
        }
      ],
      "source": [
        "from google.colab import drive\n",
        "drive.mount('/content/drive')\n"
      ]
    },
    {
      "cell_type": "markdown",
      "source": [
        "#2. Setup Path Dataset"
      ],
      "metadata": {
        "id": "UEaw5uiMnmj4"
      }
    },
    {
      "cell_type": "code",
      "source": [
        "train_dir = '/content/drive/MyDrive/dataset-gila/dataset-training-500'\n",
        "valtest_dir = '/content/drive/MyDrive/dataset-gila/dataset-valtest'\n",
        "\n",
        "val_dir = '/content/val_split/val'\n",
        "test_dir = '/content/val_split/test'\n"
      ],
      "metadata": {
        "id": "gSVFnox0np-X"
      },
      "execution_count": null,
      "outputs": []
    },
    {
      "cell_type": "markdown",
      "source": [
        "Dataset asli yang diambil langsung di pulau penyengat kami augmentasi menjadi 500 gambar per-kelas dengan folder utama bernama dataset-training-500 yang nantinya menjadi data training.\n",
        "\n",
        "Kami mengumpulkan berbagai data baru gambar dari internet tiap tiap kelasnya, yang kemudian data baru dari internet tersebut nantinya akan menjadi data validasi dan data testing (dataset-valtest)"
      ],
      "metadata": {
        "id": "S6-___I50j-D"
      }
    },
    {
      "cell_type": "markdown",
      "source": [
        "#3. Split valtest jadi Val & Test"
      ],
      "metadata": {
        "id": "41jbjiCNnu2h"
      }
    },
    {
      "cell_type": "code",
      "source": [
        "import os, shutil\n",
        "from sklearn.model_selection import train_test_split\n",
        "\n",
        "os.makedirs(val_dir, exist_ok=True)\n",
        "os.makedirs(test_dir, exist_ok=True)\n",
        "\n",
        "for class_name in os.listdir(valtest_dir):\n",
        "    class_path = os.path.join(valtest_dir, class_name)\n",
        "    if not os.path.isdir(class_path): continue\n",
        "\n",
        "    images = os.listdir(class_path)\n",
        "    train_imgs, test_imgs = train_test_split(images, test_size=0.5, random_state=42)\n",
        "\n",
        "    os.makedirs(os.path.join(val_dir, class_name), exist_ok=True)\n",
        "    os.makedirs(os.path.join(test_dir, class_name), exist_ok=True)\n",
        "\n",
        "    for img in train_imgs:\n",
        "        shutil.copy(os.path.join(class_path, img), os.path.join(val_dir, class_name, img))\n",
        "    for img in test_imgs:\n",
        "        shutil.copy(os.path.join(class_path, img), os.path.join(test_dir, class_name, img))\n"
      ],
      "metadata": {
        "id": "mnbK_SaJnwoR"
      },
      "execution_count": null,
      "outputs": []
    },
    {
      "cell_type": "markdown",
      "source": [
        "Membagi dua dataset-valtest menjadi 50:50. 50% menjadi data validasi dan 50% menjadi data testing."
      ],
      "metadata": {
        "id": "vOg6Zrgm1jBq"
      }
    },
    {
      "cell_type": "markdown",
      "source": [
        "#4. Data Generator"
      ],
      "metadata": {
        "id": "l5IsYKPvn1D7"
      }
    },
    {
      "cell_type": "code",
      "source": [
        "from tensorflow.keras.preprocessing.image import ImageDataGenerator\n",
        "\n",
        "image_size = (224, 224)\n",
        "batch_size = 32\n",
        "\n",
        "train_datagen = ImageDataGenerator(\n",
        "    rescale=1./255,\n",
        "    rotation_range=10,\n",
        "    zoom_range=0.1,\n",
        "    brightness_range=[0.85, 1.15],\n",
        "    width_shift_range=0.05,\n",
        "    height_shift_range=0.05,\n",
        "    horizontal_flip=True\n",
        ")\n",
        "\n",
        "valtest_datagen = ImageDataGenerator(rescale=1./255)\n",
        "\n",
        "train_gen = train_datagen.flow_from_directory(train_dir, target_size=image_size, batch_size=batch_size, class_mode='categorical')\n",
        "val_gen = valtest_datagen.flow_from_directory(val_dir, target_size=image_size, batch_size=batch_size, class_mode='categorical', shuffle=False)\n",
        "test_gen = valtest_datagen.flow_from_directory(test_dir, target_size=image_size, batch_size=batch_size, class_mode='categorical', shuffle=False)\n",
        "\n",
        "print(\"Train classes:\", train_gen.class_indices)\n",
        "print(\"Val classes:\", val_gen.class_indices)\n",
        "print(\"Test classes:\", test_gen.class_indices)\n",
        "\n"
      ],
      "metadata": {
        "colab": {
          "base_uri": "https://localhost:8080/"
        },
        "id": "nho0-O8Wn2mA",
        "outputId": "fabfdddd-ca58-4aa1-8825-b2b278e93af7"
      },
      "execution_count": null,
      "outputs": [
        {
          "output_type": "stream",
          "name": "stdout",
          "text": [
            "Found 3501 images belonging to 7 classes.\n",
            "Found 350 images belonging to 7 classes.\n",
            "Found 350 images belonging to 7 classes.\n",
            "Train classes: {'balai-adat-melayu': 0, 'gedung-tabib': 1, 'makam-engku-putri': 2, 'makam-raja-ali-haji': 3, 'masjid-raya-sultan-riau': 4, 'meriam-bukit-kursi': 5, 'rumah-hakim': 6}\n",
            "Val classes: {'balai-adat-melayu': 0, 'gedung-tabib': 1, 'makam-engku-putri': 2, 'makam-raja-ali-haji': 3, 'masjid-raya-sultan-riau': 4, 'meriam-bukit-kursi': 5, 'rumah-hakim': 6}\n",
            "Test classes: {'balai-adat-melayu': 0, 'gedung-tabib': 1, 'makam-engku-putri': 2, 'makam-raja-ali-haji': 3, 'masjid-raya-sultan-riau': 4, 'meriam-bukit-kursi': 5, 'rumah-hakim': 6}\n"
          ]
        }
      ]
    },
    {
      "cell_type": "markdown",
      "source": [
        "**Prepocessing Gambar**\n",
        "\n",
        "Sebelum proses traing nantinya dipersiapkan dulu data yang akan digunakan. Semua ukuran gambar yang ada sizenya 224x224 dengan batch size 32."
      ],
      "metadata": {
        "id": "L98gxAJA2NPa"
      }
    },
    {
      "cell_type": "markdown",
      "source": [
        "Dengan menggunakan ImageDataGenerator dari TensorFlow.\n",
        "\n",
        "> Pada train_datagen: Digunakan untuk augmentasi data pelatihan, yang bertujuan meningkatkan variasi gambar dan mencegah overfitting. Beberapa augmentasi yang diterapkan:\n",
        "* rotation_range: Memutar gambar hingga 10 derajat.\n",
        "* zoom_range: Melakukan zoom in/out pada gambar dengan skala 10%.\n",
        "* brightness_range: Mengubah kecerahan gambar dalam rentang 85% hingga 115%.\n",
        "* width_shift_range & height_shift_range: Menggeser gambar secara horizontal dan vertikal hingga 5%.\n",
        "* horizontal_flip: Membalik gambar secara horizontal.\n",
        "\n",
        "> Pada valtest_datagen: Hanya melakukan normalisasi gambar dengan rescale=1./255 tanpa augmentasi untuk data validasi dan uji, karena biasanya data tersebut harus tetap representatif."
      ],
      "metadata": {
        "id": "KX5Yv3HO3F20"
      }
    },
    {
      "cell_type": "markdown",
      "source": [
        "Dataset ini terdiri dari 3501 gambar untuk pelatihan, 350 gambar untuk validasi, dan 350 gambar untuk pengujian, dengan 7 kelas yang berbeda. Setiap kelas mewakili situs bersejarah atau bangunan, dan distribusi kelasnya seragam antara data pelatihan, validasi, dan pengujian. Hal ini menunjukkan bahwa dataset memiliki pembagian yang seimbang, yang dapat membantu model dalam belajar secara efektif dan mengurangi potensi bias dalam pelatihan."
      ],
      "metadata": {
        "id": "hsI3KRFK3s1Q"
      }
    },
    {
      "cell_type": "markdown",
      "source": [
        "#5. Hyperparameter & Build Model"
      ],
      "metadata": {
        "id": "lFaKErX7n9KX"
      }
    },
    {
      "cell_type": "code",
      "source": [
        "from tensorflow.keras.applications import MobileNetV2\n",
        "from tensorflow.keras.models import Model\n",
        "from tensorflow.keras.layers import GlobalAveragePooling2D, Dense\n",
        "from tensorflow.keras.optimizers import Adam\n",
        "\n",
        "\n",
        "# 🔧 Configurable\n",
        "LEARNING_RATE = 1e-6\n",
        "FROZEN_PERCENT = 0.3\n",
        "MIN_LR = 1e-7\n",
        "\n",
        "# Base Model\n",
        "base_model = MobileNetV2(weights='imagenet', include_top=False, input_shape=(224, 224, 3))\n",
        "\n",
        "# ❄️ Freeze sebagian layer\n",
        "num_layers = len(base_model.layers)\n",
        "num_frozen = int(FROZEN_PERCENT * num_layers)\n",
        "for layer in base_model.layers[:num_frozen]:\n",
        "    layer.trainable = False\n",
        "\n",
        "# Add classifier\n",
        "x = GlobalAveragePooling2D()(base_model.output)\n",
        "output = Dense(train_gen.num_classes, activation='softmax')(x)\n",
        "model = Model(inputs=base_model.input, outputs=output)\n",
        "\n",
        "# Compile\n",
        "model.compile(optimizer=Adam(learning_rate=LEARNING_RATE), loss='categorical_crossentropy', metrics=['accuracy'])\n"
      ],
      "metadata": {
        "id": "RXv2LfwNn-eK",
        "colab": {
          "base_uri": "https://localhost:8080/"
        },
        "outputId": "bff16dcc-4e3e-49e8-dfe3-97596883930a"
      },
      "execution_count": null,
      "outputs": [
        {
          "output_type": "stream",
          "name": "stdout",
          "text": [
            "Downloading data from https://storage.googleapis.com/tensorflow/keras-applications/mobilenet_v2/mobilenet_v2_weights_tf_dim_ordering_tf_kernels_1.0_224_no_top.h5\n",
            "\u001b[1m9406464/9406464\u001b[0m \u001b[32m━━━━━━━━━━━━━━━━━━━━\u001b[0m\u001b[37m\u001b[0m \u001b[1m2s\u001b[0m 0us/step\n"
          ]
        }
      ]
    },
    {
      "cell_type": "markdown",
      "source": [
        ">Base Model (MobileNetV2):\n",
        "* Menggunakan MobileNetV2 yang telah dilatih pada dataset ImageNet, dan hanya mengambil fitur ekstraksi (tanpa bagian klasifikasi dengan include_top=False).\n",
        "* Input gambar diproses dengan ukuran 224x224 dan 3 saluran warna (RGB)."
      ],
      "metadata": {
        "id": "uly1Vqdu4HvS"
      }
    },
    {
      "cell_type": "markdown",
      "source": [
        "> Pembekuan (Freeze) Layer:\n",
        "* Hanya sebagian dari layer MobileNetV2 yang akan dilatih ulang, sesuai dengan FROZEN_PERCENT, 30% dari layer pertama dibekukan dan tidak dilatih.\n",
        "* Ini dilakukan untuk mempertahankan fitur dasar yang telah dipelajari oleh MobileNetV2 dan mempercepat pelatihan model."
      ],
      "metadata": {
        "id": "i7QopwkI4Va_"
      }
    },
    {
      "cell_type": "markdown",
      "source": [
        "> Menambahkan Klasifikator:\n",
        "* Setelah bagian ekstraksi fitur dari MobileNetV2, digunakan GlobalAveragePooling2D() untuk mereduksi dimensi.\n",
        "* Kemudian, layer Dense ditambahkan sebagai layer output dengan jumlah kelas yang sesuai dengan train_gen.num_classes, menggunakan fungsi aktivasi softmax untuk klasifikasi multi-kelas."
      ],
      "metadata": {
        "id": "-AfdE5Do4lPp"
      }
    },
    {
      "cell_type": "markdown",
      "source": [
        "> Kompilasi Model:\n",
        "* Model dikompilasi dengan optimasi menggunakan Adam dengan learning rate yang sangat kecil (1e-6) dan menggunakan categorical_crossentropy sebagai fungsi loss untuk klasifikasi multi-kelas."
      ],
      "metadata": {
        "id": "LdbrrMd75qDx"
      }
    },
    {
      "cell_type": "markdown",
      "source": [
        "Dengan menggunakan MobileNetV2 yang sudah dilatih sebelumnya dan hanya melatih layer akhir, model ini bisa lebih cepat dan efisien dalam pelatihan, apalagi dengan menggunakan learning rate kecil. Teknik ini disebut transfer learning, yang sangat berguna ketika data terbatas atau membutuhkan model yang sudah terlatih sebelumnya."
      ],
      "metadata": {
        "id": "DT8Tvpoo5_XC"
      }
    },
    {
      "cell_type": "markdown",
      "source": [
        "#6. Callbacks: Early Stop, ReduceLR, Save Best"
      ],
      "metadata": {
        "id": "IRssshz1oEuC"
      }
    },
    {
      "cell_type": "code",
      "source": [
        "from tensorflow.keras.callbacks import EarlyStopping, ModelCheckpoint, ReduceLROnPlateau\n",
        "\n",
        "checkpoint_path = '/content/drive/MyDrive/modelku/bocchichan_model_best.h5'\n",
        "\n",
        "callbacks = [\n",
        "    #EarlyStopping(monitor='val_loss', patience=5, restore_best_weights=True),\n",
        "    ModelCheckpoint(checkpoint_path, monitor='val_loss', save_best_only=True),\n",
        "    ReduceLROnPlateau(monitor='val_loss', factor=0.5, patience=2, verbose=1, min_lr=MIN_LR)\n",
        "]\n"
      ],
      "metadata": {
        "id": "KSDZAGFXoFzk"
      },
      "execution_count": null,
      "outputs": []
    },
    {
      "cell_type": "markdown",
      "source": [
        "> ModelCheckpoint:\n",
        "* Tujuan: Menyimpan model terbaik (dengan performa terbaik pada val_loss) selama pelatihan ke dalam file bocchichan_model_best.h5.\n",
        "* Fungsi: Model hanya disimpan jika nilai val_loss lebih baik dari sebelumnya (menggunakan save_best_only=True)."
      ],
      "metadata": {
        "id": "Jvq9wWj46U61"
      }
    },
    {
      "cell_type": "markdown",
      "source": [
        "> ReduceLROnPlateau:\n",
        "* Tujuan: Mengurangi learning rate jika val_loss tidak membaik setelah beberapa epoch.\n",
        "* Fungsi: Jika val_loss tidak membaik dalam 2 epoch (ditentukan oleh patience=2), maka learning rate akan dikurangi setengah (factor=0.5). Proses ini membantu model keluar dari local minima dan mempercepat konvergensi."
      ],
      "metadata": {
        "id": "jNmnP99v6lSq"
      }
    },
    {
      "cell_type": "markdown",
      "source": [
        "Callback ini sangat berguna untuk menghindari overfitting, menjaga model tetap optimal (dengan ModelCheckpoint), dan menyesuaikan kecepatan pelatihan model (dengan ReduceLROnPlateau). Mereka membantu pelatihan menjadi lebih efisien dan mencegah model overfit atau terjebak di minima lokal."
      ],
      "metadata": {
        "id": "HADGhOmq63dF"
      }
    },
    {
      "cell_type": "markdown",
      "source": [
        "#7. Training"
      ],
      "metadata": {
        "id": "k5XfQrrGoQti"
      }
    },
    {
      "cell_type": "code",
      "source": [
        "from sklearn.metrics import classification_report\n",
        "import numpy as np\n",
        "import matplotlib.pyplot as plt\n",
        "from sklearn.metrics import confusion_matrix\n",
        "import seaborn as sns\n",
        "\n",
        "\n",
        "history = model.fit(\n",
        "    train_gen,\n",
        "    validation_data=val_gen,\n",
        "    epochs=30,\n",
        "    callbacks=callbacks\n",
        ")\n",
        "\n",
        "\n",
        "# Simpan model full (untuk training lanjutan)\n",
        "model.save('/content/drive/MyDrive/modelku/bocchichan_model_full.h5', include_optimizer=True)\n",
        "\n",
        "# Simpan model inference (untuk deployment)\n",
        "model.save('/content/drive/MyDrive/modelku/bocchichan_model_inference.h5', include_optimizer=False)\n",
        "\n",
        "\n",
        "test_gen.reset()\n",
        "preds = model.predict(test_gen)\n",
        "y_pred = np.argmax(preds, axis=1)\n",
        "y_true = test_gen.classes\n",
        "class_labels = list(test_gen.class_indices.keys())\n",
        "\n",
        "report = classification_report(y_true, y_pred, target_names=class_labels)\n",
        "print(report)\n",
        "\n",
        "\n",
        "def plot_history(history):\n",
        "    plt.figure(figsize=(12, 5))\n",
        "\n",
        "    # Accuracy\n",
        "    plt.subplot(1, 2, 1)\n",
        "    plt.plot(history.history['accuracy'], label='Train Acc')\n",
        "    plt.plot(history.history['val_accuracy'], label='Val Acc')\n",
        "    plt.title('Accuracy')\n",
        "    plt.xlabel('Epoch')\n",
        "    plt.ylabel('Accuracy')\n",
        "    plt.legend()\n",
        "    plt.grid()\n",
        "\n",
        "    # Loss\n",
        "    plt.subplot(1, 2, 2)\n",
        "    plt.plot(history.history['loss'], label='Train Loss')\n",
        "    plt.plot(history.history['val_loss'], label='Val Loss')\n",
        "    plt.title('Loss')\n",
        "    plt.xlabel('Epoch')\n",
        "    plt.ylabel('Loss')\n",
        "    plt.legend()\n",
        "    plt.grid()\n",
        "\n",
        "    plt.tight_layout()\n",
        "    plt.show()\n",
        "\n",
        "plot_history(history)\n",
        "\n",
        "cm = confusion_matrix(y_true, y_pred)\n",
        "plt.figure(figsize=(8,6))\n",
        "sns.heatmap(cm, annot=True, fmt='d', cmap='Blues', xticklabels=class_labels, yticklabels=class_labels)\n",
        "plt.title('Confusion Matrix')\n",
        "plt.xlabel('Predicted')\n",
        "plt.ylabel('Actual')\n",
        "plt.show()"
      ],
      "metadata": {
        "colab": {
          "base_uri": "https://localhost:8080/",
          "height": 1000
        },
        "id": "iEONXJ4iok_f",
        "outputId": "2373c558-ae0a-450e-85ab-f38b2e15ab0d"
      },
      "execution_count": null,
      "outputs": [
        {
          "output_type": "stream",
          "name": "stdout",
          "text": [
            "Epoch 1/30\n",
            "\u001b[1m110/110\u001b[0m \u001b[32m━━━━━━━━━━━━━━━━━━━━\u001b[0m\u001b[37m\u001b[0m \u001b[1m0s\u001b[0m 18s/step - accuracy: 0.1992 - loss: 2.0337 "
          ]
        },
        {
          "output_type": "stream",
          "name": "stderr",
          "text": [
            "WARNING:absl:You are saving your model as an HDF5 file via `model.save()` or `keras.saving.save_model(model)`. This file format is considered legacy. We recommend using instead the native Keras format, e.g. `model.save('my_model.keras')` or `keras.saving.save_model(model, 'my_model.keras')`. \n"
          ]
        },
        {
          "output_type": "stream",
          "name": "stdout",
          "text": [
            "\b\b\b\b\b\b\b\b\b\b\b\b\b\b\b\b\b\b\b\b\b\b\b\b\b\b\b\b\b\b\b\b\b\b\b\b\b\b\b\b\b\b\b\b\b\b\b\b\b\b\b\b\b\b\b\b\b\b\b\b\b\b\b\b\b\b\b\b\b\b\b\b\b\b\r\u001b[1m110/110\u001b[0m \u001b[32m━━━━━━━━━━━━━━━━━━━━\u001b[0m\u001b[37m\u001b[0m \u001b[1m2036s\u001b[0m 18s/step - accuracy: 0.1995 - loss: 2.0330 - val_accuracy: 0.1971 - val_loss: 2.0783 - learning_rate: 1.0000e-06\n",
            "Epoch 2/30\n",
            "\u001b[1m110/110\u001b[0m \u001b[32m━━━━━━━━━━━━━━━━━━━━\u001b[0m\u001b[37m\u001b[0m \u001b[1m0s\u001b[0m 570ms/step - accuracy: 0.3454 - loss: 1.7250"
          ]
        },
        {
          "output_type": "stream",
          "name": "stderr",
          "text": [
            "WARNING:absl:You are saving your model as an HDF5 file via `model.save()` or `keras.saving.save_model(model)`. This file format is considered legacy. We recommend using instead the native Keras format, e.g. `model.save('my_model.keras')` or `keras.saving.save_model(model, 'my_model.keras')`. \n"
          ]
        },
        {
          "output_type": "stream",
          "name": "stdout",
          "text": [
            "\b\b\b\b\b\b\b\b\b\b\b\b\b\b\b\b\b\b\b\b\b\b\b\b\b\b\b\b\b\b\b\b\b\b\b\b\b\b\b\b\b\b\b\b\b\b\b\b\b\b\b\b\b\b\b\b\b\b\b\b\b\b\b\b\b\b\b\b\b\b\b\b\b\b\b\b\r\u001b[1m110/110\u001b[0m \u001b[32m━━━━━━━━━━━━━━━━━━━━\u001b[0m\u001b[37m\u001b[0m \u001b[1m65s\u001b[0m 591ms/step - accuracy: 0.3457 - loss: 1.7243 - val_accuracy: 0.2429 - val_loss: 1.9238 - learning_rate: 1.0000e-06\n",
            "Epoch 3/30\n",
            "\u001b[1m110/110\u001b[0m \u001b[32m━━━━━━━━━━━━━━━━━━━━\u001b[0m\u001b[37m\u001b[0m \u001b[1m0s\u001b[0m 560ms/step - accuracy: 0.5170 - loss: 1.4150"
          ]
        },
        {
          "output_type": "stream",
          "name": "stderr",
          "text": [
            "WARNING:absl:You are saving your model as an HDF5 file via `model.save()` or `keras.saving.save_model(model)`. This file format is considered legacy. We recommend using instead the native Keras format, e.g. `model.save('my_model.keras')` or `keras.saving.save_model(model, 'my_model.keras')`. \n"
          ]
        },
        {
          "output_type": "stream",
          "name": "stdout",
          "text": [
            "\b\b\b\b\b\b\b\b\b\b\b\b\b\b\b\b\b\b\b\b\b\b\b\b\b\b\b\b\b\b\b\b\b\b\b\b\b\b\b\b\b\b\b\b\b\b\b\b\b\b\b\b\b\b\b\b\b\b\b\b\b\b\b\b\b\b\b\b\b\b\b\b\b\b\b\b\r\u001b[1m110/110\u001b[0m \u001b[32m━━━━━━━━━━━━━━━━━━━━\u001b[0m\u001b[37m\u001b[0m \u001b[1m64s\u001b[0m 580ms/step - accuracy: 0.5172 - loss: 1.4146 - val_accuracy: 0.3143 - val_loss: 1.7811 - learning_rate: 1.0000e-06\n",
            "Epoch 4/30\n",
            "\u001b[1m110/110\u001b[0m \u001b[32m━━━━━━━━━━━━━━━━━━━━\u001b[0m\u001b[37m\u001b[0m \u001b[1m0s\u001b[0m 571ms/step - accuracy: 0.6257 - loss: 1.2153"
          ]
        },
        {
          "output_type": "stream",
          "name": "stderr",
          "text": [
            "WARNING:absl:You are saving your model as an HDF5 file via `model.save()` or `keras.saving.save_model(model)`. This file format is considered legacy. We recommend using instead the native Keras format, e.g. `model.save('my_model.keras')` or `keras.saving.save_model(model, 'my_model.keras')`. \n"
          ]
        },
        {
          "output_type": "stream",
          "name": "stdout",
          "text": [
            "\b\b\b\b\b\b\b\b\b\b\b\b\b\b\b\b\b\b\b\b\b\b\b\b\b\b\b\b\b\b\b\b\b\b\b\b\b\b\b\b\b\b\b\b\b\b\b\b\b\b\b\b\b\b\b\b\b\b\b\b\b\b\b\b\b\b\b\b\b\b\b\b\b\b\b\b\r\u001b[1m110/110\u001b[0m \u001b[32m━━━━━━━━━━━━━━━━━━━━\u001b[0m\u001b[37m\u001b[0m \u001b[1m83s\u001b[0m 589ms/step - accuracy: 0.6259 - loss: 1.2148 - val_accuracy: 0.4029 - val_loss: 1.6485 - learning_rate: 1.0000e-06\n",
            "Epoch 5/30\n",
            "\u001b[1m110/110\u001b[0m \u001b[32m━━━━━━━━━━━━━━━━━━━━\u001b[0m\u001b[37m\u001b[0m \u001b[1m0s\u001b[0m 575ms/step - accuracy: 0.7227 - loss: 1.0279"
          ]
        },
        {
          "output_type": "stream",
          "name": "stderr",
          "text": [
            "WARNING:absl:You are saving your model as an HDF5 file via `model.save()` or `keras.saving.save_model(model)`. This file format is considered legacy. We recommend using instead the native Keras format, e.g. `model.save('my_model.keras')` or `keras.saving.save_model(model, 'my_model.keras')`. \n"
          ]
        },
        {
          "output_type": "stream",
          "name": "stdout",
          "text": [
            "\b\b\b\b\b\b\b\b\b\b\b\b\b\b\b\b\b\b\b\b\b\b\b\b\b\b\b\b\b\b\b\b\b\b\b\b\b\b\b\b\b\b\b\b\b\b\b\b\b\b\b\b\b\b\b\b\b\b\b\b\b\b\b\b\b\b\b\b\b\b\b\b\b\b\b\b\r\u001b[1m110/110\u001b[0m \u001b[32m━━━━━━━━━━━━━━━━━━━━\u001b[0m\u001b[37m\u001b[0m \u001b[1m66s\u001b[0m 596ms/step - accuracy: 0.7230 - loss: 1.0275 - val_accuracy: 0.4543 - val_loss: 1.5287 - learning_rate: 1.0000e-06\n",
            "Epoch 6/30\n",
            "\u001b[1m110/110\u001b[0m \u001b[32m━━━━━━━━━━━━━━━━━━━━\u001b[0m\u001b[37m\u001b[0m \u001b[1m0s\u001b[0m 568ms/step - accuracy: 0.8032 - loss: 0.8646"
          ]
        },
        {
          "output_type": "stream",
          "name": "stderr",
          "text": [
            "WARNING:absl:You are saving your model as an HDF5 file via `model.save()` or `keras.saving.save_model(model)`. This file format is considered legacy. We recommend using instead the native Keras format, e.g. `model.save('my_model.keras')` or `keras.saving.save_model(model, 'my_model.keras')`. \n"
          ]
        },
        {
          "output_type": "stream",
          "name": "stdout",
          "text": [
            "\b\b\b\b\b\b\b\b\b\b\b\b\b\b\b\b\b\b\b\b\b\b\b\b\b\b\b\b\b\b\b\b\b\b\b\b\b\b\b\b\b\b\b\b\b\b\b\b\b\b\b\b\b\b\b\b\b\b\b\b\b\b\b\b\b\b\b\b\b\b\b\b\b\b\b\b\r\u001b[1m110/110\u001b[0m \u001b[32m━━━━━━━━━━━━━━━━━━━━\u001b[0m\u001b[37m\u001b[0m \u001b[1m65s\u001b[0m 588ms/step - accuracy: 0.8034 - loss: 0.8643 - val_accuracy: 0.4914 - val_loss: 1.4199 - learning_rate: 1.0000e-06\n",
            "Epoch 7/30\n",
            "\u001b[1m110/110\u001b[0m \u001b[32m━━━━━━━━━━━━━━━━━━━━\u001b[0m\u001b[37m\u001b[0m \u001b[1m0s\u001b[0m 564ms/step - accuracy: 0.8571 - loss: 0.7300"
          ]
        },
        {
          "output_type": "stream",
          "name": "stderr",
          "text": [
            "WARNING:absl:You are saving your model as an HDF5 file via `model.save()` or `keras.saving.save_model(model)`. This file format is considered legacy. We recommend using instead the native Keras format, e.g. `model.save('my_model.keras')` or `keras.saving.save_model(model, 'my_model.keras')`. \n"
          ]
        },
        {
          "output_type": "stream",
          "name": "stdout",
          "text": [
            "\b\b\b\b\b\b\b\b\b\b\b\b\b\b\b\b\b\b\b\b\b\b\b\b\b\b\b\b\b\b\b\b\b\b\b\b\b\b\b\b\b\b\b\b\b\b\b\b\b\b\b\b\b\b\b\b\b\b\b\b\b\b\b\b\b\b\b\b\b\b\b\b\b\b\b\b\r\u001b[1m110/110\u001b[0m \u001b[32m━━━━━━━━━━━━━━━━━━━━\u001b[0m\u001b[37m\u001b[0m \u001b[1m82s\u001b[0m 592ms/step - accuracy: 0.8572 - loss: 0.7300 - val_accuracy: 0.5314 - val_loss: 1.3245 - learning_rate: 1.0000e-06\n",
            "Epoch 8/30\n",
            "\u001b[1m110/110\u001b[0m \u001b[32m━━━━━━━━━━━━━━━━━━━━\u001b[0m\u001b[37m\u001b[0m \u001b[1m0s\u001b[0m 559ms/step - accuracy: 0.8927 - loss: 0.6352"
          ]
        },
        {
          "output_type": "stream",
          "name": "stderr",
          "text": [
            "WARNING:absl:You are saving your model as an HDF5 file via `model.save()` or `keras.saving.save_model(model)`. This file format is considered legacy. We recommend using instead the native Keras format, e.g. `model.save('my_model.keras')` or `keras.saving.save_model(model, 'my_model.keras')`. \n"
          ]
        },
        {
          "output_type": "stream",
          "name": "stdout",
          "text": [
            "\b\b\b\b\b\b\b\b\b\b\b\b\b\b\b\b\b\b\b\b\b\b\b\b\b\b\b\b\b\b\b\b\b\b\b\b\b\b\b\b\b\b\b\b\b\b\b\b\b\b\b\b\b\b\b\b\b\b\b\b\b\b\b\b\b\b\b\b\b\b\b\b\b\b\b\b\r\u001b[1m110/110\u001b[0m \u001b[32m━━━━━━━━━━━━━━━━━━━━\u001b[0m\u001b[37m\u001b[0m \u001b[1m64s\u001b[0m 581ms/step - accuracy: 0.8927 - loss: 0.6350 - val_accuracy: 0.5657 - val_loss: 1.2386 - learning_rate: 1.0000e-06\n",
            "Epoch 9/30\n",
            "\u001b[1m110/110\u001b[0m \u001b[32m━━━━━━━━━━━━━━━━━━━━\u001b[0m\u001b[37m\u001b[0m \u001b[1m0s\u001b[0m 563ms/step - accuracy: 0.9031 - loss: 0.5777"
          ]
        },
        {
          "output_type": "stream",
          "name": "stderr",
          "text": [
            "WARNING:absl:You are saving your model as an HDF5 file via `model.save()` or `keras.saving.save_model(model)`. This file format is considered legacy. We recommend using instead the native Keras format, e.g. `model.save('my_model.keras')` or `keras.saving.save_model(model, 'my_model.keras')`. \n"
          ]
        },
        {
          "output_type": "stream",
          "name": "stdout",
          "text": [
            "\b\b\b\b\b\b\b\b\b\b\b\b\b\b\b\b\b\b\b\b\b\b\b\b\b\b\b\b\b\b\b\b\b\b\b\b\b\b\b\b\b\b\b\b\b\b\b\b\b\b\b\b\b\b\b\b\b\b\b\b\b\b\b\b\b\b\b\b\b\b\b\b\b\b\b\b\r\u001b[1m110/110\u001b[0m \u001b[32m━━━━━━━━━━━━━━━━━━━━\u001b[0m\u001b[37m\u001b[0m \u001b[1m65s\u001b[0m 583ms/step - accuracy: 0.9032 - loss: 0.5774 - val_accuracy: 0.5971 - val_loss: 1.1628 - learning_rate: 1.0000e-06\n",
            "Epoch 10/30\n",
            "\u001b[1m110/110\u001b[0m \u001b[32m━━━━━━━━━━━━━━━━━━━━\u001b[0m\u001b[37m\u001b[0m \u001b[1m0s\u001b[0m 569ms/step - accuracy: 0.9286 - loss: 0.4854"
          ]
        },
        {
          "output_type": "stream",
          "name": "stderr",
          "text": [
            "WARNING:absl:You are saving your model as an HDF5 file via `model.save()` or `keras.saving.save_model(model)`. This file format is considered legacy. We recommend using instead the native Keras format, e.g. `model.save('my_model.keras')` or `keras.saving.save_model(model, 'my_model.keras')`. \n"
          ]
        },
        {
          "output_type": "stream",
          "name": "stdout",
          "text": [
            "\b\b\b\b\b\b\b\b\b\b\b\b\b\b\b\b\b\b\b\b\b\b\b\b\b\b\b\b\b\b\b\b\b\b\b\b\b\b\b\b\b\b\b\b\b\b\b\b\b\b\b\b\b\b\b\b\b\b\b\b\b\b\b\b\b\b\b\b\b\b\b\b\b\b\b\b\r\u001b[1m110/110\u001b[0m \u001b[32m━━━━━━━━━━━━━━━━━━━━\u001b[0m\u001b[37m\u001b[0m \u001b[1m65s\u001b[0m 589ms/step - accuracy: 0.9286 - loss: 0.4854 - val_accuracy: 0.6314 - val_loss: 1.0961 - learning_rate: 1.0000e-06\n",
            "Epoch 11/30\n",
            "\u001b[1m110/110\u001b[0m \u001b[32m━━━━━━━━━━━━━━━━━━━━\u001b[0m\u001b[37m\u001b[0m \u001b[1m0s\u001b[0m 572ms/step - accuracy: 0.9406 - loss: 0.4357"
          ]
        },
        {
          "output_type": "stream",
          "name": "stderr",
          "text": [
            "WARNING:absl:You are saving your model as an HDF5 file via `model.save()` or `keras.saving.save_model(model)`. This file format is considered legacy. We recommend using instead the native Keras format, e.g. `model.save('my_model.keras')` or `keras.saving.save_model(model, 'my_model.keras')`. \n"
          ]
        },
        {
          "output_type": "stream",
          "name": "stdout",
          "text": [
            "\b\b\b\b\b\b\b\b\b\b\b\b\b\b\b\b\b\b\b\b\b\b\b\b\b\b\b\b\b\b\b\b\b\b\b\b\b\b\b\b\b\b\b\b\b\b\b\b\b\b\b\b\b\b\b\b\b\b\b\b\b\b\b\b\b\b\b\b\b\b\b\b\b\b\b\b\r\u001b[1m110/110\u001b[0m \u001b[32m━━━━━━━━━━━━━━━━━━━━\u001b[0m\u001b[37m\u001b[0m \u001b[1m65s\u001b[0m 590ms/step - accuracy: 0.9406 - loss: 0.4355 - val_accuracy: 0.6657 - val_loss: 1.0361 - learning_rate: 1.0000e-06\n",
            "Epoch 12/30\n",
            "\u001b[1m110/110\u001b[0m \u001b[32m━━━━━━━━━━━━━━━━━━━━\u001b[0m\u001b[37m\u001b[0m \u001b[1m0s\u001b[0m 565ms/step - accuracy: 0.9528 - loss: 0.3837"
          ]
        },
        {
          "output_type": "stream",
          "name": "stderr",
          "text": [
            "WARNING:absl:You are saving your model as an HDF5 file via `model.save()` or `keras.saving.save_model(model)`. This file format is considered legacy. We recommend using instead the native Keras format, e.g. `model.save('my_model.keras')` or `keras.saving.save_model(model, 'my_model.keras')`. \n"
          ]
        },
        {
          "output_type": "stream",
          "name": "stdout",
          "text": [
            "\b\b\b\b\b\b\b\b\b\b\b\b\b\b\b\b\b\b\b\b\b\b\b\b\b\b\b\b\b\b\b\b\b\b\b\b\b\b\b\b\b\b\b\b\b\b\b\b\b\b\b\b\b\b\b\b\b\b\b\b\b\b\b\b\b\b\b\b\b\b\b\b\b\b\b\b\r\u001b[1m110/110\u001b[0m \u001b[32m━━━━━━━━━━━━━━━━━━━━\u001b[0m\u001b[37m\u001b[0m \u001b[1m65s\u001b[0m 586ms/step - accuracy: 0.9528 - loss: 0.3836 - val_accuracy: 0.6800 - val_loss: 0.9824 - learning_rate: 1.0000e-06\n",
            "Epoch 13/30\n",
            "\u001b[1m110/110\u001b[0m \u001b[32m━━━━━━━━━━━━━━━━━━━━\u001b[0m\u001b[37m\u001b[0m \u001b[1m0s\u001b[0m 549ms/step - accuracy: 0.9505 - loss: 0.3439"
          ]
        },
        {
          "output_type": "stream",
          "name": "stderr",
          "text": [
            "WARNING:absl:You are saving your model as an HDF5 file via `model.save()` or `keras.saving.save_model(model)`. This file format is considered legacy. We recommend using instead the native Keras format, e.g. `model.save('my_model.keras')` or `keras.saving.save_model(model, 'my_model.keras')`. \n"
          ]
        },
        {
          "output_type": "stream",
          "name": "stdout",
          "text": [
            "\b\b\b\b\b\b\b\b\b\b\b\b\b\b\b\b\b\b\b\b\b\b\b\b\b\b\b\b\b\b\b\b\b\b\b\b\b\b\b\b\b\b\b\b\b\b\b\b\b\b\b\b\b\b\b\b\b\b\b\b\b\b\b\b\b\b\b\b\b\b\b\b\b\b\b\b\r\u001b[1m110/110\u001b[0m \u001b[32m━━━━━━━━━━━━━━━━━━━━\u001b[0m\u001b[37m\u001b[0m \u001b[1m63s\u001b[0m 570ms/step - accuracy: 0.9505 - loss: 0.3438 - val_accuracy: 0.7000 - val_loss: 0.9329 - learning_rate: 1.0000e-06\n",
            "Epoch 14/30\n",
            "\u001b[1m110/110\u001b[0m \u001b[32m━━━━━━━━━━━━━━━━━━━━\u001b[0m\u001b[37m\u001b[0m \u001b[1m0s\u001b[0m 555ms/step - accuracy: 0.9619 - loss: 0.3121"
          ]
        },
        {
          "output_type": "stream",
          "name": "stderr",
          "text": [
            "WARNING:absl:You are saving your model as an HDF5 file via `model.save()` or `keras.saving.save_model(model)`. This file format is considered legacy. We recommend using instead the native Keras format, e.g. `model.save('my_model.keras')` or `keras.saving.save_model(model, 'my_model.keras')`. \n"
          ]
        },
        {
          "output_type": "stream",
          "name": "stdout",
          "text": [
            "\b\b\b\b\b\b\b\b\b\b\b\b\b\b\b\b\b\b\b\b\b\b\b\b\b\b\b\b\b\b\b\b\b\b\b\b\b\b\b\b\b\b\b\b\b\b\b\b\b\b\b\b\b\b\b\b\b\b\b\b\b\b\b\b\b\b\b\b\b\b\b\b\b\b\b\b\r\u001b[1m110/110\u001b[0m \u001b[32m━━━━━━━━━━━━━━━━━━━━\u001b[0m\u001b[37m\u001b[0m \u001b[1m63s\u001b[0m 573ms/step - accuracy: 0.9619 - loss: 0.3120 - val_accuracy: 0.7229 - val_loss: 0.8896 - learning_rate: 1.0000e-06\n",
            "Epoch 15/30\n",
            "\u001b[1m110/110\u001b[0m \u001b[32m━━━━━━━━━━━━━━━━━━━━\u001b[0m\u001b[37m\u001b[0m \u001b[1m0s\u001b[0m 561ms/step - accuracy: 0.9672 - loss: 0.2808"
          ]
        },
        {
          "output_type": "stream",
          "name": "stderr",
          "text": [
            "WARNING:absl:You are saving your model as an HDF5 file via `model.save()` or `keras.saving.save_model(model)`. This file format is considered legacy. We recommend using instead the native Keras format, e.g. `model.save('my_model.keras')` or `keras.saving.save_model(model, 'my_model.keras')`. \n"
          ]
        },
        {
          "output_type": "stream",
          "name": "stdout",
          "text": [
            "\b\b\b\b\b\b\b\b\b\b\b\b\b\b\b\b\b\b\b\b\b\b\b\b\b\b\b\b\b\b\b\b\b\b\b\b\b\b\b\b\b\b\b\b\b\b\b\b\b\b\b\b\b\b\b\b\b\b\b\b\b\b\b\b\b\b\b\b\b\b\b\b\b\b\b\b\r\u001b[1m110/110\u001b[0m \u001b[32m━━━━━━━━━━━━━━━━━━━━\u001b[0m\u001b[37m\u001b[0m \u001b[1m64s\u001b[0m 579ms/step - accuracy: 0.9672 - loss: 0.2808 - val_accuracy: 0.7343 - val_loss: 0.8489 - learning_rate: 1.0000e-06\n",
            "Epoch 16/30\n",
            "\u001b[1m110/110\u001b[0m \u001b[32m━━━━━━━━━━━━━━━━━━━━\u001b[0m\u001b[37m\u001b[0m \u001b[1m0s\u001b[0m 555ms/step - accuracy: 0.9695 - loss: 0.2559"
          ]
        },
        {
          "output_type": "stream",
          "name": "stderr",
          "text": [
            "WARNING:absl:You are saving your model as an HDF5 file via `model.save()` or `keras.saving.save_model(model)`. This file format is considered legacy. We recommend using instead the native Keras format, e.g. `model.save('my_model.keras')` or `keras.saving.save_model(model, 'my_model.keras')`. \n"
          ]
        },
        {
          "output_type": "stream",
          "name": "stdout",
          "text": [
            "\b\b\b\b\b\b\b\b\b\b\b\b\b\b\b\b\b\b\b\b\b\b\b\b\b\b\b\b\b\b\b\b\b\b\b\b\b\b\b\b\b\b\b\b\b\b\b\b\b\b\b\b\b\b\b\b\b\b\b\b\b\b\b\b\b\b\b\b\b\b\b\b\b\b\b\b\r\u001b[1m110/110\u001b[0m \u001b[32m━━━━━━━━━━━━━━━━━━━━\u001b[0m\u001b[37m\u001b[0m \u001b[1m63s\u001b[0m 577ms/step - accuracy: 0.9695 - loss: 0.2558 - val_accuracy: 0.7486 - val_loss: 0.8126 - learning_rate: 1.0000e-06\n",
            "Epoch 17/30\n",
            "\u001b[1m110/110\u001b[0m \u001b[32m━━━━━━━━━━━━━━━━━━━━\u001b[0m\u001b[37m\u001b[0m \u001b[1m0s\u001b[0m 554ms/step - accuracy: 0.9714 - loss: 0.2334"
          ]
        },
        {
          "output_type": "stream",
          "name": "stderr",
          "text": [
            "WARNING:absl:You are saving your model as an HDF5 file via `model.save()` or `keras.saving.save_model(model)`. This file format is considered legacy. We recommend using instead the native Keras format, e.g. `model.save('my_model.keras')` or `keras.saving.save_model(model, 'my_model.keras')`. \n"
          ]
        },
        {
          "output_type": "stream",
          "name": "stdout",
          "text": [
            "\b\b\b\b\b\b\b\b\b\b\b\b\b\b\b\b\b\b\b\b\b\b\b\b\b\b\b\b\b\b\b\b\b\b\b\b\b\b\b\b\b\b\b\b\b\b\b\b\b\b\b\b\b\b\b\b\b\b\b\b\b\b\b\b\b\b\b\b\b\b\b\b\b\b\b\b\r\u001b[1m110/110\u001b[0m \u001b[32m━━━━━━━━━━━━━━━━━━━━\u001b[0m\u001b[37m\u001b[0m \u001b[1m63s\u001b[0m 572ms/step - accuracy: 0.9714 - loss: 0.2334 - val_accuracy: 0.7600 - val_loss: 0.7790 - learning_rate: 1.0000e-06\n",
            "Epoch 18/30\n",
            "\u001b[1m110/110\u001b[0m \u001b[32m━━━━━━━━━━━━━━━━━━━━\u001b[0m\u001b[37m\u001b[0m \u001b[1m0s\u001b[0m 577ms/step - accuracy: 0.9822 - loss: 0.2013"
          ]
        },
        {
          "output_type": "stream",
          "name": "stderr",
          "text": [
            "WARNING:absl:You are saving your model as an HDF5 file via `model.save()` or `keras.saving.save_model(model)`. This file format is considered legacy. We recommend using instead the native Keras format, e.g. `model.save('my_model.keras')` or `keras.saving.save_model(model, 'my_model.keras')`. \n"
          ]
        },
        {
          "output_type": "stream",
          "name": "stdout",
          "text": [
            "\b\b\b\b\b\b\b\b\b\b\b\b\b\b\b\b\b\b\b\b\b\b\b\b\b\b\b\b\b\b\b\b\b\b\b\b\b\b\b\b\b\b\b\b\b\b\b\b\b\b\b\b\b\b\b\b\b\b\b\b\b\b\b\b\b\b\b\b\b\b\b\b\b\b\b\b\r\u001b[1m110/110\u001b[0m \u001b[32m━━━━━━━━━━━━━━━━━━━━\u001b[0m\u001b[37m\u001b[0m \u001b[1m66s\u001b[0m 596ms/step - accuracy: 0.9821 - loss: 0.2012 - val_accuracy: 0.7771 - val_loss: 0.7481 - learning_rate: 1.0000e-06\n",
            "Epoch 19/30\n",
            "\u001b[1m110/110\u001b[0m \u001b[32m━━━━━━━━━━━━━━━━━━━━\u001b[0m\u001b[37m\u001b[0m \u001b[1m0s\u001b[0m 571ms/step - accuracy: 0.9808 - loss: 0.1805"
          ]
        },
        {
          "output_type": "stream",
          "name": "stderr",
          "text": [
            "WARNING:absl:You are saving your model as an HDF5 file via `model.save()` or `keras.saving.save_model(model)`. This file format is considered legacy. We recommend using instead the native Keras format, e.g. `model.save('my_model.keras')` or `keras.saving.save_model(model, 'my_model.keras')`. \n"
          ]
        },
        {
          "output_type": "stream",
          "name": "stdout",
          "text": [
            "\b\b\b\b\b\b\b\b\b\b\b\b\b\b\b\b\b\b\b\b\b\b\b\b\b\b\b\b\b\b\b\b\b\b\b\b\b\b\b\b\b\b\b\b\b\b\b\b\b\b\b\b\b\b\b\b\b\b\b\b\b\b\b\b\b\b\b\b\b\b\b\b\b\b\b\b\r\u001b[1m110/110\u001b[0m \u001b[32m━━━━━━━━━━━━━━━━━━━━\u001b[0m\u001b[37m\u001b[0m \u001b[1m65s\u001b[0m 593ms/step - accuracy: 0.9809 - loss: 0.1805 - val_accuracy: 0.7829 - val_loss: 0.7207 - learning_rate: 1.0000e-06\n",
            "Epoch 20/30\n",
            "\u001b[1m110/110\u001b[0m \u001b[32m━━━━━━━━━━━━━━━━━━━━\u001b[0m\u001b[37m\u001b[0m \u001b[1m0s\u001b[0m 569ms/step - accuracy: 0.9836 - loss: 0.1706"
          ]
        },
        {
          "output_type": "stream",
          "name": "stderr",
          "text": [
            "WARNING:absl:You are saving your model as an HDF5 file via `model.save()` or `keras.saving.save_model(model)`. This file format is considered legacy. We recommend using instead the native Keras format, e.g. `model.save('my_model.keras')` or `keras.saving.save_model(model, 'my_model.keras')`. \n"
          ]
        },
        {
          "output_type": "stream",
          "name": "stdout",
          "text": [
            "\b\b\b\b\b\b\b\b\b\b\b\b\b\b\b\b\b\b\b\b\b\b\b\b\b\b\b\b\b\b\b\b\b\b\b\b\b\b\b\b\b\b\b\b\b\b\b\b\b\b\b\b\b\b\b\b\b\b\b\b\b\b\b\b\b\b\b\b\b\b\b\b\b\b\b\b\r\u001b[1m110/110\u001b[0m \u001b[32m━━━━━━━━━━━━━━━━━━━━\u001b[0m\u001b[37m\u001b[0m \u001b[1m65s\u001b[0m 589ms/step - accuracy: 0.9836 - loss: 0.1706 - val_accuracy: 0.7800 - val_loss: 0.6965 - learning_rate: 1.0000e-06\n",
            "Epoch 21/30\n",
            "\u001b[1m110/110\u001b[0m \u001b[32m━━━━━━━━━━━━━━━━━━━━\u001b[0m\u001b[37m\u001b[0m \u001b[1m0s\u001b[0m 555ms/step - accuracy: 0.9853 - loss: 0.1484"
          ]
        },
        {
          "output_type": "stream",
          "name": "stderr",
          "text": [
            "WARNING:absl:You are saving your model as an HDF5 file via `model.save()` or `keras.saving.save_model(model)`. This file format is considered legacy. We recommend using instead the native Keras format, e.g. `model.save('my_model.keras')` or `keras.saving.save_model(model, 'my_model.keras')`. \n"
          ]
        },
        {
          "output_type": "stream",
          "name": "stdout",
          "text": [
            "\b\b\b\b\b\b\b\b\b\b\b\b\b\b\b\b\b\b\b\b\b\b\b\b\b\b\b\b\b\b\b\b\b\b\b\b\b\b\b\b\b\b\b\b\b\b\b\b\b\b\b\b\b\b\b\b\b\b\b\b\b\b\b\b\b\b\b\b\b\b\b\b\b\b\b\b\r\u001b[1m110/110\u001b[0m \u001b[32m━━━━━━━━━━━━━━━━━━━━\u001b[0m\u001b[37m\u001b[0m \u001b[1m63s\u001b[0m 576ms/step - accuracy: 0.9853 - loss: 0.1484 - val_accuracy: 0.7971 - val_loss: 0.6727 - learning_rate: 1.0000e-06\n",
            "Epoch 22/30\n",
            "\u001b[1m110/110\u001b[0m \u001b[32m━━━━━━━━━━━━━━━━━━━━\u001b[0m\u001b[37m\u001b[0m \u001b[1m0s\u001b[0m 545ms/step - accuracy: 0.9866 - loss: 0.1465"
          ]
        },
        {
          "output_type": "stream",
          "name": "stderr",
          "text": [
            "WARNING:absl:You are saving your model as an HDF5 file via `model.save()` or `keras.saving.save_model(model)`. This file format is considered legacy. We recommend using instead the native Keras format, e.g. `model.save('my_model.keras')` or `keras.saving.save_model(model, 'my_model.keras')`. \n"
          ]
        },
        {
          "output_type": "stream",
          "name": "stdout",
          "text": [
            "\b\b\b\b\b\b\b\b\b\b\b\b\b\b\b\b\b\b\b\b\b\b\b\b\b\b\b\b\b\b\b\b\b\b\b\b\b\b\b\b\b\b\b\b\b\b\b\b\b\b\b\b\b\b\b\b\b\b\b\b\b\b\b\b\b\b\b\b\b\b\b\b\b\b\b\b\r\u001b[1m110/110\u001b[0m \u001b[32m━━━━━━━━━━━━━━━━━━━━\u001b[0m\u001b[37m\u001b[0m \u001b[1m62s\u001b[0m 564ms/step - accuracy: 0.9866 - loss: 0.1464 - val_accuracy: 0.8000 - val_loss: 0.6514 - learning_rate: 1.0000e-06\n",
            "Epoch 23/30\n",
            "\u001b[1m110/110\u001b[0m \u001b[32m━━━━━━━━━━━━━━━━━━━━\u001b[0m\u001b[37m\u001b[0m \u001b[1m0s\u001b[0m 550ms/step - accuracy: 0.9875 - loss: 0.1333"
          ]
        },
        {
          "output_type": "stream",
          "name": "stderr",
          "text": [
            "WARNING:absl:You are saving your model as an HDF5 file via `model.save()` or `keras.saving.save_model(model)`. This file format is considered legacy. We recommend using instead the native Keras format, e.g. `model.save('my_model.keras')` or `keras.saving.save_model(model, 'my_model.keras')`. \n"
          ]
        },
        {
          "output_type": "stream",
          "name": "stdout",
          "text": [
            "\b\b\b\b\b\b\b\b\b\b\b\b\b\b\b\b\b\b\b\b\b\b\b\b\b\b\b\b\b\b\b\b\b\b\b\b\b\b\b\b\b\b\b\b\b\b\b\b\b\b\b\b\b\b\b\b\b\b\b\b\b\b\b\b\b\b\b\b\b\b\b\b\b\b\b\b\r\u001b[1m110/110\u001b[0m \u001b[32m━━━━━━━━━━━━━━━━━━━━\u001b[0m\u001b[37m\u001b[0m \u001b[1m83s\u001b[0m 575ms/step - accuracy: 0.9875 - loss: 0.1333 - val_accuracy: 0.8143 - val_loss: 0.6309 - learning_rate: 1.0000e-06\n",
            "Epoch 24/30\n",
            "\u001b[1m110/110\u001b[0m \u001b[32m━━━━━━━━━━━━━━━━━━━━\u001b[0m\u001b[37m\u001b[0m \u001b[1m0s\u001b[0m 555ms/step - accuracy: 0.9891 - loss: 0.1206"
          ]
        },
        {
          "output_type": "stream",
          "name": "stderr",
          "text": [
            "WARNING:absl:You are saving your model as an HDF5 file via `model.save()` or `keras.saving.save_model(model)`. This file format is considered legacy. We recommend using instead the native Keras format, e.g. `model.save('my_model.keras')` or `keras.saving.save_model(model, 'my_model.keras')`. \n"
          ]
        },
        {
          "output_type": "stream",
          "name": "stdout",
          "text": [
            "\b\b\b\b\b\b\b\b\b\b\b\b\b\b\b\b\b\b\b\b\b\b\b\b\b\b\b\b\b\b\b\b\b\b\b\b\b\b\b\b\b\b\b\b\b\b\b\b\b\b\b\b\b\b\b\b\b\b\b\b\b\b\b\b\b\b\b\b\b\b\b\b\b\b\b\b\r\u001b[1m110/110\u001b[0m \u001b[32m━━━━━━━━━━━━━━━━━━━━\u001b[0m\u001b[37m\u001b[0m \u001b[1m63s\u001b[0m 576ms/step - accuracy: 0.9891 - loss: 0.1206 - val_accuracy: 0.8200 - val_loss: 0.6116 - learning_rate: 1.0000e-06\n",
            "Epoch 25/30\n",
            "\u001b[1m110/110\u001b[0m \u001b[32m━━━━━━━━━━━━━━━━━━━━\u001b[0m\u001b[37m\u001b[0m \u001b[1m0s\u001b[0m 555ms/step - accuracy: 0.9882 - loss: 0.1214"
          ]
        },
        {
          "output_type": "stream",
          "name": "stderr",
          "text": [
            "WARNING:absl:You are saving your model as an HDF5 file via `model.save()` or `keras.saving.save_model(model)`. This file format is considered legacy. We recommend using instead the native Keras format, e.g. `model.save('my_model.keras')` or `keras.saving.save_model(model, 'my_model.keras')`. \n"
          ]
        },
        {
          "output_type": "stream",
          "name": "stdout",
          "text": [
            "\b\b\b\b\b\b\b\b\b\b\b\b\b\b\b\b\b\b\b\b\b\b\b\b\b\b\b\b\b\b\b\b\b\b\b\b\b\b\b\b\b\b\b\b\b\b\b\b\b\b\b\b\b\b\b\b\b\b\b\b\b\b\b\b\b\b\b\b\b\b\b\b\b\b\b\b\r\u001b[1m110/110\u001b[0m \u001b[32m━━━━━━━━━━━━━━━━━━━━\u001b[0m\u001b[37m\u001b[0m \u001b[1m82s\u001b[0m 577ms/step - accuracy: 0.9882 - loss: 0.1213 - val_accuracy: 0.8314 - val_loss: 0.5930 - learning_rate: 1.0000e-06\n",
            "Epoch 26/30\n",
            "\u001b[1m110/110\u001b[0m \u001b[32m━━━━━━━━━━━━━━━━━━━━\u001b[0m\u001b[37m\u001b[0m \u001b[1m0s\u001b[0m 560ms/step - accuracy: 0.9919 - loss: 0.1046"
          ]
        },
        {
          "output_type": "stream",
          "name": "stderr",
          "text": [
            "WARNING:absl:You are saving your model as an HDF5 file via `model.save()` or `keras.saving.save_model(model)`. This file format is considered legacy. We recommend using instead the native Keras format, e.g. `model.save('my_model.keras')` or `keras.saving.save_model(model, 'my_model.keras')`. \n"
          ]
        },
        {
          "output_type": "stream",
          "name": "stdout",
          "text": [
            "\b\b\b\b\b\b\b\b\b\b\b\b\b\b\b\b\b\b\b\b\b\b\b\b\b\b\b\b\b\b\b\b\b\b\b\b\b\b\b\b\b\b\b\b\b\b\b\b\b\b\b\b\b\b\b\b\b\b\b\b\b\b\b\b\b\b\b\b\b\b\b\b\b\b\b\b\r\u001b[1m110/110\u001b[0m \u001b[32m━━━━━━━━━━━━━━━━━━━━\u001b[0m\u001b[37m\u001b[0m \u001b[1m64s\u001b[0m 583ms/step - accuracy: 0.9919 - loss: 0.1045 - val_accuracy: 0.8400 - val_loss: 0.5767 - learning_rate: 1.0000e-06\n",
            "Epoch 27/30\n",
            "\u001b[1m110/110\u001b[0m \u001b[32m━━━━━━━━━━━━━━━━━━━━\u001b[0m\u001b[37m\u001b[0m \u001b[1m0s\u001b[0m 565ms/step - accuracy: 0.9925 - loss: 0.0892"
          ]
        },
        {
          "output_type": "stream",
          "name": "stderr",
          "text": [
            "WARNING:absl:You are saving your model as an HDF5 file via `model.save()` or `keras.saving.save_model(model)`. This file format is considered legacy. We recommend using instead the native Keras format, e.g. `model.save('my_model.keras')` or `keras.saving.save_model(model, 'my_model.keras')`. \n"
          ]
        },
        {
          "output_type": "stream",
          "name": "stdout",
          "text": [
            "\b\b\b\b\b\b\b\b\b\b\b\b\b\b\b\b\b\b\b\b\b\b\b\b\b\b\b\b\b\b\b\b\b\b\b\b\b\b\b\b\b\b\b\b\b\b\b\b\b\b\b\b\b\b\b\b\b\b\b\b\b\b\b\b\b\b\b\b\b\b\b\b\b\b\b\b\r\u001b[1m110/110\u001b[0m \u001b[32m━━━━━━━━━━━━━━━━━━━━\u001b[0m\u001b[37m\u001b[0m \u001b[1m82s\u001b[0m 588ms/step - accuracy: 0.9925 - loss: 0.0892 - val_accuracy: 0.8514 - val_loss: 0.5614 - learning_rate: 1.0000e-06\n",
            "Epoch 28/30\n",
            "\u001b[1m110/110\u001b[0m \u001b[32m━━━━━━━━━━━━━━━━━━━━\u001b[0m\u001b[37m\u001b[0m \u001b[1m0s\u001b[0m 560ms/step - accuracy: 0.9931 - loss: 0.0857"
          ]
        },
        {
          "output_type": "stream",
          "name": "stderr",
          "text": [
            "WARNING:absl:You are saving your model as an HDF5 file via `model.save()` or `keras.saving.save_model(model)`. This file format is considered legacy. We recommend using instead the native Keras format, e.g. `model.save('my_model.keras')` or `keras.saving.save_model(model, 'my_model.keras')`. \n"
          ]
        },
        {
          "output_type": "stream",
          "name": "stdout",
          "text": [
            "\b\b\b\b\b\b\b\b\b\b\b\b\b\b\b\b\b\b\b\b\b\b\b\b\b\b\b\b\b\b\b\b\b\b\b\b\b\b\b\b\b\b\b\b\b\b\b\b\b\b\b\b\b\b\b\b\b\b\b\b\b\b\b\b\b\b\b\b\b\b\b\b\b\b\b\b\r\u001b[1m110/110\u001b[0m \u001b[32m━━━━━━━━━━━━━━━━━━━━\u001b[0m\u001b[37m\u001b[0m \u001b[1m65s\u001b[0m 588ms/step - accuracy: 0.9931 - loss: 0.0857 - val_accuracy: 0.8514 - val_loss: 0.5472 - learning_rate: 1.0000e-06\n",
            "Epoch 29/30\n",
            "\u001b[1m110/110\u001b[0m \u001b[32m━━━━━━━━━━━━━━━━━━━━\u001b[0m\u001b[37m\u001b[0m \u001b[1m0s\u001b[0m 547ms/step - accuracy: 0.9946 - loss: 0.0844"
          ]
        },
        {
          "output_type": "stream",
          "name": "stderr",
          "text": [
            "WARNING:absl:You are saving your model as an HDF5 file via `model.save()` or `keras.saving.save_model(model)`. This file format is considered legacy. We recommend using instead the native Keras format, e.g. `model.save('my_model.keras')` or `keras.saving.save_model(model, 'my_model.keras')`. \n"
          ]
        },
        {
          "output_type": "stream",
          "name": "stdout",
          "text": [
            "\b\b\b\b\b\b\b\b\b\b\b\b\b\b\b\b\b\b\b\b\b\b\b\b\b\b\b\b\b\b\b\b\b\b\b\b\b\b\b\b\b\b\b\b\b\b\b\b\b\b\b\b\b\b\b\b\b\b\b\b\b\b\b\b\b\b\b\b\b\b\b\b\b\b\b\b\r\u001b[1m110/110\u001b[0m \u001b[32m━━━━━━━━━━━━━━━━━━━━\u001b[0m\u001b[37m\u001b[0m \u001b[1m62s\u001b[0m 567ms/step - accuracy: 0.9946 - loss: 0.0844 - val_accuracy: 0.8629 - val_loss: 0.5327 - learning_rate: 1.0000e-06\n",
            "Epoch 30/30\n",
            "\u001b[1m110/110\u001b[0m \u001b[32m━━━━━━━━━━━━━━━━━━━━\u001b[0m\u001b[37m\u001b[0m \u001b[1m0s\u001b[0m 576ms/step - accuracy: 0.9973 - loss: 0.0711"
          ]
        },
        {
          "output_type": "stream",
          "name": "stderr",
          "text": [
            "WARNING:absl:You are saving your model as an HDF5 file via `model.save()` or `keras.saving.save_model(model)`. This file format is considered legacy. We recommend using instead the native Keras format, e.g. `model.save('my_model.keras')` or `keras.saving.save_model(model, 'my_model.keras')`. \n"
          ]
        },
        {
          "output_type": "stream",
          "name": "stdout",
          "text": [
            "\b\b\b\b\b\b\b\b\b\b\b\b\b\b\b\b\b\b\b\b\b\b\b\b\b\b\b\b\b\b\b\b\b\b\b\b\b\b\b\b\b\b\b\b\b\b\b\b\b\b\b\b\b\b\b\b\b\b\b\b\b\b\b\b\b\b\b\b\b\b\b\b\b\b\b\b\r\u001b[1m110/110\u001b[0m \u001b[32m━━━━━━━━━━━━━━━━━━━━\u001b[0m\u001b[37m\u001b[0m \u001b[1m65s\u001b[0m 595ms/step - accuracy: 0.9972 - loss: 0.0712 - val_accuracy: 0.8657 - val_loss: 0.5197 - learning_rate: 1.0000e-06\n"
          ]
        },
        {
          "output_type": "stream",
          "name": "stderr",
          "text": [
            "WARNING:absl:You are saving your model as an HDF5 file via `model.save()` or `keras.saving.save_model(model)`. This file format is considered legacy. We recommend using instead the native Keras format, e.g. `model.save('my_model.keras')` or `keras.saving.save_model(model, 'my_model.keras')`. \n",
            "WARNING:absl:You are saving your model as an HDF5 file via `model.save()` or `keras.saving.save_model(model)`. This file format is considered legacy. We recommend using instead the native Keras format, e.g. `model.save('my_model.keras')` or `keras.saving.save_model(model, 'my_model.keras')`. \n"
          ]
        },
        {
          "output_type": "stream",
          "name": "stdout",
          "text": [
            "\u001b[1m11/11\u001b[0m \u001b[32m━━━━━━━━━━━━━━━━━━━━\u001b[0m\u001b[37m\u001b[0m \u001b[1m6s\u001b[0m 331ms/step\n",
            "                         precision    recall  f1-score   support\n",
            "\n",
            "      balai-adat-melayu       0.87      0.52      0.65        50\n",
            "           gedung-tabib       0.75      0.82      0.78        50\n",
            "      makam-engku-putri       0.92      0.90      0.91        50\n",
            "    makam-raja-ali-haji       0.89      0.96      0.92        50\n",
            "masjid-raya-sultan-riau       0.81      0.94      0.87        50\n",
            "     meriam-bukit-kursi       0.82      0.98      0.89        50\n",
            "            rumah-hakim       0.89      0.78      0.83        50\n",
            "\n",
            "               accuracy                           0.84       350\n",
            "              macro avg       0.85      0.84      0.84       350\n",
            "           weighted avg       0.85      0.84      0.84       350\n",
            "\n"
          ]
        },
        {
          "output_type": "display_data",
          "data": {
            "text/plain": [
              "<Figure size 1200x500 with 2 Axes>"
            ],
            "image/png": "[encoded data removed]"
          },
          "metadata": {}
        },
        {
          "output_type": "display_data",
          "data": {
            "text/plain": [
              "<Figure size 800x600 with 2 Axes>"
            ],
            "image/png": "[encoded data removed]"
          },
          "metadata": {}
        }
      ]
    },
    {
      "cell_type": "markdown",
      "source": [
        "> Melatih Model:\n",
        "* model.fit(): Model dilatih selama 30 epoch dengan data pelatihan (train_gen) dan data validasi (val_gen). Selama pelatihan, beberapa callback yang telah didefinisikan sebelumnya (seperti ModelCheckpoint dan ReduceLROnPlateau) digunakan untuk mengoptimalkan pelatihan."
      ],
      "metadata": {
        "id": "9niNQIDO7Od1"
      }
    },
    {
      "cell_type": "markdown",
      "source": [
        "> Menyimpan Model:\n",
        "Model disimpan dalam dua versi:\n",
        "* bocchichan_model_full.h5: Model lengkap, termasuk optimizer, yang dapat digunakan untuk melanjutkan pelatihan.\n",
        "* bocchichan_model_inference.h5: Model tanpa optimizer, siap digunakan untuk deployment/inference."
      ],
      "metadata": {
        "id": "g0bKEJOm7TcP"
      }
    },
    {
      "cell_type": "markdown",
      "source": [
        "> Prediksi dengan Data Uji:\n",
        "* model.predict(): Model digunakan untuk memprediksi kelas dari data uji (test_gen).\n",
        "* np.argmax(): Mengambil kelas yang memiliki probabilitas tertinggi dari hasil prediksi.\n",
        "* classification_report(): Menampilkan laporan klasifikasi yang berisi metrik evaluasi seperti precision, recall, dan F1-score untuk setiap kelas."
      ],
      "metadata": {
        "id": "13UiBphP7aEH"
      }
    },
    {
      "cell_type": "markdown",
      "source": [
        "> Visualisasi:\n",
        "* plot_history(): Fungsi untuk menggambar grafik akurasi dan loss selama pelatihan, baik untuk data pelatihan maupun validasi. Ini membantu melihat apakah model overfitting atau underfitting.\n",
        "* Confusion Matrix: Menghitung dan menggambarkan matriks kebingunguan untuk memvisualisasikan prediksi vs kelas sebenarnya. Ini memberi gambaran tentang seberapa baik model dalam mengklasifikasikan setiap kelas."
      ],
      "metadata": {
        "id": "RJpqpgo49hj2"
      }
    },
    {
      "cell_type": "markdown",
      "source": [
        "# ANALISIS HASIL"
      ],
      "metadata": {
        "id": "K-TIX7Fh9l_7"
      }
    },
    {
      "cell_type": "markdown",
      "source": [
        "> Akurasi: Model memiliki akurasi 84%, yang berarti bahwa 84% prediksi pada data uji benar.\n",
        "\n",
        "> Precision, Recall, dan F1-Score per Kelas:\n",
        "* Precision: Menunjukkan seberapa banyak prediksi yang benar di antara semua prediksi yang dibuat untuk kelas tersebut. Kelas dengan precision tinggi adalah makam-engku-putri (0.92) dan makam-raja-ali-haji (0.89), yang berarti model sangat akurat dalam memprediksi gambar dari kelas ini.\n",
        "* Recall: Menunjukkan seberapa banyak data aktual untuk kelas tersebut yang berhasil diprediksi dengan benar oleh model. Kelas dengan recall tinggi adalah meriam-bukit-kursi (0.98) dan masjid-raya-sultan-riau (0.94), menunjukkan bahwa model hampir tidak melewatkan gambar dari kelas ini.\n",
        "* F1-Score: Merupakan rata-rata harmonis antara precision dan recall. Kelas dengan F1-score tinggi adalah makam-engku-putri (0.91) dan makam-raja-ali-haji (0.92), yang berarti model seimbang dalam hal precision dan recall pada kelas ini.\n",
        "\n",
        "> Macro Avg dan Weighted Avg:\n",
        "* Macro Avg: Rata-rata per kelas tanpa mempertimbangkan ukuran kelas, menghasilkan nilai 0.84 untuk recall dan 0.85 untuk precision.\n",
        "* Weighted Avg: Rata-rata yang mempertimbangkan jumlah contoh per kelas, menghasilkan hasil yang sama (0.84 untuk recall dan 0.85 untuk precision), menunjukkan distribusi kelas yang seimbang.\n",
        "\n",
        ">Insight:\n",
        "* Model sudah cukup baik, tetapi ada kelas dengan recall rendah, seperti balai-adat-melayu (0.52), yang menunjukkan bahwa model sering gagal mengenali gambar dari kelas ini.\n",
        "* F1-Score dan precision untuk sebagian besar kelas cukup tinggi, menunjukkan model memiliki performa yang baik dalam mengenali sebagian besar kelas.\n",
        "* Diperlukan perbaikan pada kelas dengan recall rendah (seperti balai-adat-melayu), yang dapat dicapai dengan menambah data latih atau menggunakan teknik augmentasi untuk kelas tersebut."
      ],
      "metadata": {
        "id": "-hWa8Rru-Bkz"
      }
    }
  ]
}